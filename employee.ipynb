{
 "cells": [
  {
   "cell_type": "markdown",
   "id": "4111557f-ccc7-4851-a3de-4c68c03db31e",
   "metadata": {},
   "source": [
    "Analysing the Employee Job Satisfaction Management"
   ]
  },
  {
   "cell_type": "code",
   "execution_count": 1,
   "id": "82be4047-8a77-4965-b903-92eb1b4efb72",
   "metadata": {},
   "outputs": [],
   "source": [
    "#IMPORTING THE LIBRARIES\n",
    "import pandas as pd\n",
    "import numpy as np\n",
    "import seaborn as sns\n",
    "import matplotlib.pyplot as plt"
   ]
  },
  {
   "cell_type": "code",
   "execution_count": 3,
   "id": "57e2b657-51ca-4636-8dc0-9ad2e6a3bb93",
   "metadata": {},
   "outputs": [
    {
     "data": {
      "text/html": [
       "<div>\n",
       "<style scoped>\n",
       "    .dataframe tbody tr th:only-of-type {\n",
       "        vertical-align: middle;\n",
       "    }\n",
       "\n",
       "    .dataframe tbody tr th {\n",
       "        vertical-align: top;\n",
       "    }\n",
       "\n",
       "    .dataframe thead th {\n",
       "        text-align: right;\n",
       "    }\n",
       "</style>\n",
       "<table border=\"1\" class=\"dataframe\">\n",
       "  <thead>\n",
       "    <tr style=\"text-align: right;\">\n",
       "      <th></th>\n",
       "      <th>emp_id</th>\n",
       "      <th>age</th>\n",
       "      <th>Dept</th>\n",
       "      <th>location</th>\n",
       "      <th>education</th>\n",
       "      <th>recruitment_type</th>\n",
       "      <th>job_level</th>\n",
       "      <th>rating</th>\n",
       "      <th>onsite</th>\n",
       "      <th>awards</th>\n",
       "      <th>certifications</th>\n",
       "      <th>salary</th>\n",
       "      <th>satisfied</th>\n",
       "    </tr>\n",
       "  </thead>\n",
       "  <tbody>\n",
       "    <tr>\n",
       "      <th>0</th>\n",
       "      <td>HR8270</td>\n",
       "      <td>28</td>\n",
       "      <td>HR</td>\n",
       "      <td>Suburb</td>\n",
       "      <td>PG</td>\n",
       "      <td>Referral</td>\n",
       "      <td>5</td>\n",
       "      <td>2</td>\n",
       "      <td>0</td>\n",
       "      <td>1</td>\n",
       "      <td>0</td>\n",
       "      <td>86750</td>\n",
       "      <td>1</td>\n",
       "    </tr>\n",
       "    <tr>\n",
       "      <th>1</th>\n",
       "      <td>TECH1860</td>\n",
       "      <td>50</td>\n",
       "      <td>Technology</td>\n",
       "      <td>Suburb</td>\n",
       "      <td>PG</td>\n",
       "      <td>Walk-in</td>\n",
       "      <td>3</td>\n",
       "      <td>5</td>\n",
       "      <td>1</td>\n",
       "      <td>2</td>\n",
       "      <td>1</td>\n",
       "      <td>42419</td>\n",
       "      <td>0</td>\n",
       "    </tr>\n",
       "    <tr>\n",
       "      <th>2</th>\n",
       "      <td>TECH6390</td>\n",
       "      <td>43</td>\n",
       "      <td>Technology</td>\n",
       "      <td>Suburb</td>\n",
       "      <td>UG</td>\n",
       "      <td>Referral</td>\n",
       "      <td>4</td>\n",
       "      <td>1</td>\n",
       "      <td>0</td>\n",
       "      <td>2</td>\n",
       "      <td>0</td>\n",
       "      <td>65715</td>\n",
       "      <td>0</td>\n",
       "    </tr>\n",
       "    <tr>\n",
       "      <th>3</th>\n",
       "      <td>SAL6191</td>\n",
       "      <td>44</td>\n",
       "      <td>Sales</td>\n",
       "      <td>City</td>\n",
       "      <td>PG</td>\n",
       "      <td>On-Campus</td>\n",
       "      <td>2</td>\n",
       "      <td>3</td>\n",
       "      <td>1</td>\n",
       "      <td>0</td>\n",
       "      <td>0</td>\n",
       "      <td>29805</td>\n",
       "      <td>1</td>\n",
       "    </tr>\n",
       "    <tr>\n",
       "      <th>4</th>\n",
       "      <td>HR6734</td>\n",
       "      <td>33</td>\n",
       "      <td>HR</td>\n",
       "      <td>City</td>\n",
       "      <td>UG</td>\n",
       "      <td>Recruitment Agency</td>\n",
       "      <td>2</td>\n",
       "      <td>1</td>\n",
       "      <td>0</td>\n",
       "      <td>5</td>\n",
       "      <td>0</td>\n",
       "      <td>29805</td>\n",
       "      <td>1</td>\n",
       "    </tr>\n",
       "  </tbody>\n",
       "</table>\n",
       "</div>"
      ],
      "text/plain": [
       "     emp_id  age        Dept location education    recruitment_type  \\\n",
       "0    HR8270   28          HR   Suburb        PG            Referral   \n",
       "1  TECH1860   50  Technology   Suburb        PG             Walk-in   \n",
       "2  TECH6390   43  Technology   Suburb        UG            Referral   \n",
       "3   SAL6191   44       Sales     City        PG           On-Campus   \n",
       "4    HR6734   33          HR     City        UG  Recruitment Agency   \n",
       "\n",
       "   job_level  rating  onsite  awards  certifications  salary  satisfied  \n",
       "0          5       2       0       1               0   86750          1  \n",
       "1          3       5       1       2               1   42419          0  \n",
       "2          4       1       0       2               0   65715          0  \n",
       "3          2       3       1       0               0   29805          1  \n",
       "4          2       1       0       5               0   29805          1  "
      ]
     },
     "execution_count": 3,
     "metadata": {},
     "output_type": "execute_result"
    }
   ],
   "source": [
    "df=pd.read_csv('Employee.csv')\n",
    "df.head()"
   ]
  },
  {
   "cell_type": "code",
   "execution_count": 6,
   "id": "2e9acc3e-31e1-43f3-bfcb-243798a890b9",
   "metadata": {},
   "outputs": [
    {
     "data": {
      "text/html": [
       "<div>\n",
       "<style scoped>\n",
       "    .dataframe tbody tr th:only-of-type {\n",
       "        vertical-align: middle;\n",
       "    }\n",
       "\n",
       "    .dataframe tbody tr th {\n",
       "        vertical-align: top;\n",
       "    }\n",
       "\n",
       "    .dataframe thead th {\n",
       "        text-align: right;\n",
       "    }\n",
       "</style>\n",
       "<table border=\"1\" class=\"dataframe\">\n",
       "  <thead>\n",
       "    <tr style=\"text-align: right;\">\n",
       "      <th></th>\n",
       "      <th>emp_id</th>\n",
       "      <th>age</th>\n",
       "      <th>Dept</th>\n",
       "      <th>location</th>\n",
       "      <th>education</th>\n",
       "      <th>recruitment_type</th>\n",
       "      <th>job_level</th>\n",
       "      <th>rating</th>\n",
       "      <th>onsite</th>\n",
       "      <th>awards</th>\n",
       "      <th>certifications</th>\n",
       "      <th>salary</th>\n",
       "      <th>satisfied</th>\n",
       "    </tr>\n",
       "  </thead>\n",
       "  <tbody>\n",
       "    <tr>\n",
       "      <th>495</th>\n",
       "      <td>HR5330</td>\n",
       "      <td>49</td>\n",
       "      <td>HR</td>\n",
       "      <td>Suburb</td>\n",
       "      <td>PG</td>\n",
       "      <td>On-Campus</td>\n",
       "      <td>2</td>\n",
       "      <td>5</td>\n",
       "      <td>0</td>\n",
       "      <td>6</td>\n",
       "      <td>0</td>\n",
       "      <td>29805</td>\n",
       "      <td>1</td>\n",
       "    </tr>\n",
       "    <tr>\n",
       "      <th>496</th>\n",
       "      <td>TECH9010</td>\n",
       "      <td>24</td>\n",
       "      <td>Technology</td>\n",
       "      <td>Suburb</td>\n",
       "      <td>UG</td>\n",
       "      <td>Referral</td>\n",
       "      <td>2</td>\n",
       "      <td>4</td>\n",
       "      <td>0</td>\n",
       "      <td>2</td>\n",
       "      <td>0</td>\n",
       "      <td>29805</td>\n",
       "      <td>0</td>\n",
       "    </tr>\n",
       "    <tr>\n",
       "      <th>497</th>\n",
       "      <td>MKT7801</td>\n",
       "      <td>34</td>\n",
       "      <td>Marketing</td>\n",
       "      <td>City</td>\n",
       "      <td>PG</td>\n",
       "      <td>On-Campus</td>\n",
       "      <td>1</td>\n",
       "      <td>3</td>\n",
       "      <td>0</td>\n",
       "      <td>2</td>\n",
       "      <td>0</td>\n",
       "      <td>24076</td>\n",
       "      <td>1</td>\n",
       "    </tr>\n",
       "    <tr>\n",
       "      <th>498</th>\n",
       "      <td>TECH5846</td>\n",
       "      <td>26</td>\n",
       "      <td>Technology</td>\n",
       "      <td>City</td>\n",
       "      <td>UG</td>\n",
       "      <td>On-Campus</td>\n",
       "      <td>2</td>\n",
       "      <td>1</td>\n",
       "      <td>1</td>\n",
       "      <td>1</td>\n",
       "      <td>1</td>\n",
       "      <td>29805</td>\n",
       "      <td>0</td>\n",
       "    </tr>\n",
       "    <tr>\n",
       "      <th>499</th>\n",
       "      <td>TECH7731</td>\n",
       "      <td>26</td>\n",
       "      <td>Technology</td>\n",
       "      <td>City</td>\n",
       "      <td>UG</td>\n",
       "      <td>Recruitment Agency</td>\n",
       "      <td>3</td>\n",
       "      <td>4</td>\n",
       "      <td>0</td>\n",
       "      <td>3</td>\n",
       "      <td>0</td>\n",
       "      <td>42419</td>\n",
       "      <td>0</td>\n",
       "    </tr>\n",
       "  </tbody>\n",
       "</table>\n",
       "</div>"
      ],
      "text/plain": [
       "       emp_id  age        Dept location education    recruitment_type  \\\n",
       "495    HR5330   49          HR   Suburb        PG           On-Campus   \n",
       "496  TECH9010   24  Technology   Suburb        UG            Referral   \n",
       "497   MKT7801   34   Marketing     City        PG           On-Campus   \n",
       "498  TECH5846   26  Technology     City        UG           On-Campus   \n",
       "499  TECH7731   26  Technology     City        UG  Recruitment Agency   \n",
       "\n",
       "     job_level  rating  onsite  awards  certifications  salary  satisfied  \n",
       "495          2       5       0       6               0   29805          1  \n",
       "496          2       4       0       2               0   29805          0  \n",
       "497          1       3       0       2               0   24076          1  \n",
       "498          2       1       1       1               1   29805          0  \n",
       "499          3       4       0       3               0   42419          0  "
      ]
     },
     "execution_count": 6,
     "metadata": {},
     "output_type": "execute_result"
    }
   ],
   "source": [
    "df.tail()"
   ]
  },
  {
   "cell_type": "code",
   "execution_count": 8,
   "id": "5c0e3f4f-f29e-408c-b850-68158e9057a4",
   "metadata": {},
   "outputs": [
    {
     "name": "stdout",
     "output_type": "stream",
     "text": [
      "<class 'pandas.core.frame.DataFrame'>\n",
      "RangeIndex: 500 entries, 0 to 499\n",
      "Data columns (total 13 columns):\n",
      " #   Column            Non-Null Count  Dtype \n",
      "---  ------            --------------  ----- \n",
      " 0   emp_id            500 non-null    object\n",
      " 1   age               500 non-null    int64 \n",
      " 2   Dept              500 non-null    object\n",
      " 3   location          500 non-null    object\n",
      " 4   education         500 non-null    object\n",
      " 5   recruitment_type  500 non-null    object\n",
      " 6   job_level         500 non-null    int64 \n",
      " 7   rating            500 non-null    int64 \n",
      " 8   onsite            500 non-null    int64 \n",
      " 9   awards            500 non-null    int64 \n",
      " 10  certifications    500 non-null    int64 \n",
      " 11  salary            500 non-null    int64 \n",
      " 12  satisfied         500 non-null    int64 \n",
      "dtypes: int64(8), object(5)\n",
      "memory usage: 50.9+ KB\n"
     ]
    }
   ],
   "source": [
    "df.info()"
   ]
  },
  {
   "cell_type": "code",
   "execution_count": 10,
   "id": "de05cc14-14ff-452a-8eae-5ca6377479ca",
   "metadata": {},
   "outputs": [
    {
     "data": {
      "text/plain": [
       "emp_id              0\n",
       "age                 0\n",
       "Dept                0\n",
       "location            0\n",
       "education           0\n",
       "recruitment_type    0\n",
       "job_level           0\n",
       "rating              0\n",
       "onsite              0\n",
       "awards              0\n",
       "certifications      0\n",
       "salary              0\n",
       "satisfied           0\n",
       "dtype: int64"
      ]
     },
     "execution_count": 10,
     "metadata": {},
     "output_type": "execute_result"
    }
   ],
   "source": [
    "df.isnull().sum()"
   ]
  },
  {
   "cell_type": "code",
   "execution_count": 12,
   "id": "74f54b77-1a0b-4ecc-bba9-f04468d35ca0",
   "metadata": {},
   "outputs": [
    {
     "data": {
      "text/plain": [
       "(500, 13)"
      ]
     },
     "execution_count": 12,
     "metadata": {},
     "output_type": "execute_result"
    }
   ],
   "source": [
    "df.shape"
   ]
  },
  {
   "cell_type": "code",
   "execution_count": 14,
   "id": "fa702905-18cb-4733-8d8e-0aba323feec2",
   "metadata": {},
   "outputs": [
    {
     "data": {
      "text/plain": [
       "emp_id              499\n",
       "age                  32\n",
       "Dept                  5\n",
       "location              2\n",
       "education             2\n",
       "recruitment_type      4\n",
       "job_level             5\n",
       "rating                5\n",
       "onsite                2\n",
       "awards               10\n",
       "certifications        2\n",
       "salary                5\n",
       "satisfied             2\n",
       "dtype: int64"
      ]
     },
     "execution_count": 14,
     "metadata": {},
     "output_type": "execute_result"
    }
   ],
   "source": [
    "df.nunique()"
   ]
  },
  {
   "cell_type": "code",
   "execution_count": 16,
   "id": "768bab5f-2391-4a00-83b9-91284a031648",
   "metadata": {},
   "outputs": [
    {
     "data": {
      "text/plain": [
       "Index(['emp_id', 'age', 'Dept', 'location', 'education', 'recruitment_type',\n",
       "       'job_level', 'rating', 'onsite', 'awards', 'certifications', 'salary',\n",
       "       'satisfied'],\n",
       "      dtype='object')"
      ]
     },
     "execution_count": 16,
     "metadata": {},
     "output_type": "execute_result"
    }
   ],
   "source": [
    "df.columns"
   ]
  },
  {
   "cell_type": "code",
   "execution_count": 18,
   "id": "e14061a4-56af-478f-86db-5f8e8b1cf1c6",
   "metadata": {},
   "outputs": [
    {
     "data": {
      "text/plain": [
       "emp_id              object\n",
       "age                  int64\n",
       "Dept                object\n",
       "location            object\n",
       "education           object\n",
       "recruitment_type    object\n",
       "job_level            int64\n",
       "rating               int64\n",
       "onsite               int64\n",
       "awards               int64\n",
       "certifications       int64\n",
       "salary               int64\n",
       "satisfied            int64\n",
       "dtype: object"
      ]
     },
     "execution_count": 18,
     "metadata": {},
     "output_type": "execute_result"
    }
   ],
   "source": [
    "df.dtypes"
   ]
  },
  {
   "cell_type": "code",
   "execution_count": 20,
   "id": "8c939e9c-197e-40b0-be6c-d1859a3a176e",
   "metadata": {},
   "outputs": [
    {
     "data": {
      "text/html": [
       "<div>\n",
       "<style scoped>\n",
       "    .dataframe tbody tr th:only-of-type {\n",
       "        vertical-align: middle;\n",
       "    }\n",
       "\n",
       "    .dataframe tbody tr th {\n",
       "        vertical-align: top;\n",
       "    }\n",
       "\n",
       "    .dataframe thead th {\n",
       "        text-align: right;\n",
       "    }\n",
       "</style>\n",
       "<table border=\"1\" class=\"dataframe\">\n",
       "  <thead>\n",
       "    <tr style=\"text-align: right;\">\n",
       "      <th></th>\n",
       "      <th>age</th>\n",
       "      <th>job_level</th>\n",
       "      <th>rating</th>\n",
       "      <th>onsite</th>\n",
       "      <th>awards</th>\n",
       "      <th>certifications</th>\n",
       "      <th>salary</th>\n",
       "      <th>satisfied</th>\n",
       "    </tr>\n",
       "  </thead>\n",
       "  <tbody>\n",
       "    <tr>\n",
       "      <th>count</th>\n",
       "      <td>500.000000</td>\n",
       "      <td>500.000000</td>\n",
       "      <td>500.000000</td>\n",
       "      <td>500.000000</td>\n",
       "      <td>500.000000</td>\n",
       "      <td>500.000000</td>\n",
       "      <td>500.000000</td>\n",
       "      <td>500.000000</td>\n",
       "    </tr>\n",
       "    <tr>\n",
       "      <th>mean</th>\n",
       "      <td>38.610000</td>\n",
       "      <td>3.032000</td>\n",
       "      <td>3.072000</td>\n",
       "      <td>0.466000</td>\n",
       "      <td>4.538000</td>\n",
       "      <td>0.496000</td>\n",
       "      <td>50416.056000</td>\n",
       "      <td>0.526000</td>\n",
       "    </tr>\n",
       "    <tr>\n",
       "      <th>std</th>\n",
       "      <td>9.438648</td>\n",
       "      <td>1.423738</td>\n",
       "      <td>1.425089</td>\n",
       "      <td>0.499342</td>\n",
       "      <td>2.853215</td>\n",
       "      <td>0.500485</td>\n",
       "      <td>23671.392661</td>\n",
       "      <td>0.499824</td>\n",
       "    </tr>\n",
       "    <tr>\n",
       "      <th>min</th>\n",
       "      <td>23.000000</td>\n",
       "      <td>1.000000</td>\n",
       "      <td>1.000000</td>\n",
       "      <td>0.000000</td>\n",
       "      <td>0.000000</td>\n",
       "      <td>0.000000</td>\n",
       "      <td>24076.000000</td>\n",
       "      <td>0.000000</td>\n",
       "    </tr>\n",
       "    <tr>\n",
       "      <th>25%</th>\n",
       "      <td>30.000000</td>\n",
       "      <td>2.000000</td>\n",
       "      <td>2.000000</td>\n",
       "      <td>0.000000</td>\n",
       "      <td>2.000000</td>\n",
       "      <td>0.000000</td>\n",
       "      <td>29805.000000</td>\n",
       "      <td>0.000000</td>\n",
       "    </tr>\n",
       "    <tr>\n",
       "      <th>50%</th>\n",
       "      <td>39.000000</td>\n",
       "      <td>3.000000</td>\n",
       "      <td>3.000000</td>\n",
       "      <td>0.000000</td>\n",
       "      <td>5.000000</td>\n",
       "      <td>0.000000</td>\n",
       "      <td>42419.000000</td>\n",
       "      <td>1.000000</td>\n",
       "    </tr>\n",
       "    <tr>\n",
       "      <th>75%</th>\n",
       "      <td>47.000000</td>\n",
       "      <td>4.000000</td>\n",
       "      <td>4.000000</td>\n",
       "      <td>1.000000</td>\n",
       "      <td>7.000000</td>\n",
       "      <td>1.000000</td>\n",
       "      <td>65715.000000</td>\n",
       "      <td>1.000000</td>\n",
       "    </tr>\n",
       "    <tr>\n",
       "      <th>max</th>\n",
       "      <td>54.000000</td>\n",
       "      <td>5.000000</td>\n",
       "      <td>5.000000</td>\n",
       "      <td>1.000000</td>\n",
       "      <td>9.000000</td>\n",
       "      <td>1.000000</td>\n",
       "      <td>86750.000000</td>\n",
       "      <td>1.000000</td>\n",
       "    </tr>\n",
       "  </tbody>\n",
       "</table>\n",
       "</div>"
      ],
      "text/plain": [
       "              age   job_level      rating      onsite      awards  \\\n",
       "count  500.000000  500.000000  500.000000  500.000000  500.000000   \n",
       "mean    38.610000    3.032000    3.072000    0.466000    4.538000   \n",
       "std      9.438648    1.423738    1.425089    0.499342    2.853215   \n",
       "min     23.000000    1.000000    1.000000    0.000000    0.000000   \n",
       "25%     30.000000    2.000000    2.000000    0.000000    2.000000   \n",
       "50%     39.000000    3.000000    3.000000    0.000000    5.000000   \n",
       "75%     47.000000    4.000000    4.000000    1.000000    7.000000   \n",
       "max     54.000000    5.000000    5.000000    1.000000    9.000000   \n",
       "\n",
       "       certifications        salary   satisfied  \n",
       "count      500.000000    500.000000  500.000000  \n",
       "mean         0.496000  50416.056000    0.526000  \n",
       "std          0.500485  23671.392661    0.499824  \n",
       "min          0.000000  24076.000000    0.000000  \n",
       "25%          0.000000  29805.000000    0.000000  \n",
       "50%          0.000000  42419.000000    1.000000  \n",
       "75%          1.000000  65715.000000    1.000000  \n",
       "max          1.000000  86750.000000    1.000000  "
      ]
     },
     "execution_count": 20,
     "metadata": {},
     "output_type": "execute_result"
    }
   ],
   "source": [
    "df.describe()"
   ]
  },
  {
   "cell_type": "code",
   "execution_count": 22,
   "id": "eacdb353-e081-4c2e-9bc1-00da7bb6b36e",
   "metadata": {},
   "outputs": [
    {
     "data": {
      "text/html": [
       "<div>\n",
       "<style scoped>\n",
       "    .dataframe tbody tr th:only-of-type {\n",
       "        vertical-align: middle;\n",
       "    }\n",
       "\n",
       "    .dataframe tbody tr th {\n",
       "        vertical-align: top;\n",
       "    }\n",
       "\n",
       "    .dataframe thead th {\n",
       "        text-align: right;\n",
       "    }\n",
       "</style>\n",
       "<table border=\"1\" class=\"dataframe\">\n",
       "  <thead>\n",
       "    <tr style=\"text-align: right;\">\n",
       "      <th></th>\n",
       "      <th>emp_id</th>\n",
       "      <th>Dept</th>\n",
       "      <th>location</th>\n",
       "      <th>education</th>\n",
       "      <th>recruitment_type</th>\n",
       "    </tr>\n",
       "  </thead>\n",
       "  <tbody>\n",
       "    <tr>\n",
       "      <th>count</th>\n",
       "      <td>500</td>\n",
       "      <td>500</td>\n",
       "      <td>500</td>\n",
       "      <td>500</td>\n",
       "      <td>500</td>\n",
       "    </tr>\n",
       "    <tr>\n",
       "      <th>unique</th>\n",
       "      <td>499</td>\n",
       "      <td>5</td>\n",
       "      <td>2</td>\n",
       "      <td>2</td>\n",
       "      <td>4</td>\n",
       "    </tr>\n",
       "    <tr>\n",
       "      <th>top</th>\n",
       "      <td>MKT7287</td>\n",
       "      <td>Purchasing</td>\n",
       "      <td>City</td>\n",
       "      <td>PG</td>\n",
       "      <td>On-Campus</td>\n",
       "    </tr>\n",
       "    <tr>\n",
       "      <th>freq</th>\n",
       "      <td>2</td>\n",
       "      <td>109</td>\n",
       "      <td>259</td>\n",
       "      <td>254</td>\n",
       "      <td>133</td>\n",
       "    </tr>\n",
       "  </tbody>\n",
       "</table>\n",
       "</div>"
      ],
      "text/plain": [
       "         emp_id        Dept location education recruitment_type\n",
       "count       500         500      500       500              500\n",
       "unique      499           5        2         2                4\n",
       "top     MKT7287  Purchasing     City        PG        On-Campus\n",
       "freq          2         109      259       254              133"
      ]
     },
     "execution_count": 22,
     "metadata": {},
     "output_type": "execute_result"
    }
   ],
   "source": [
    "df.describe(include='object')"
   ]
  },
  {
   "cell_type": "code",
   "execution_count": 24,
   "id": "7a3885df-8a13-49a9-99a6-512e863a669a",
   "metadata": {},
   "outputs": [
    {
     "data": {
      "text/html": [
       "<div>\n",
       "<style scoped>\n",
       "    .dataframe tbody tr th:only-of-type {\n",
       "        vertical-align: middle;\n",
       "    }\n",
       "\n",
       "    .dataframe tbody tr th {\n",
       "        vertical-align: top;\n",
       "    }\n",
       "\n",
       "    .dataframe thead th {\n",
       "        text-align: right;\n",
       "    }\n",
       "</style>\n",
       "<table border=\"1\" class=\"dataframe\">\n",
       "  <thead>\n",
       "    <tr style=\"text-align: right;\">\n",
       "      <th></th>\n",
       "      <th>emp_id</th>\n",
       "      <th>age</th>\n",
       "      <th>Dept</th>\n",
       "      <th>location</th>\n",
       "      <th>education</th>\n",
       "      <th>recruitment_type</th>\n",
       "      <th>job_level</th>\n",
       "      <th>rating</th>\n",
       "      <th>onsite</th>\n",
       "      <th>awards</th>\n",
       "      <th>certifications</th>\n",
       "      <th>salary</th>\n",
       "      <th>satisfied</th>\n",
       "    </tr>\n",
       "  </thead>\n",
       "  <tbody>\n",
       "    <tr>\n",
       "      <th>188</th>\n",
       "      <td>MKT7287</td>\n",
       "      <td>41</td>\n",
       "      <td>Marketing</td>\n",
       "      <td>City</td>\n",
       "      <td>UG</td>\n",
       "      <td>Referral</td>\n",
       "      <td>2</td>\n",
       "      <td>5</td>\n",
       "      <td>0</td>\n",
       "      <td>0</td>\n",
       "      <td>1</td>\n",
       "      <td>29805</td>\n",
       "      <td>1</td>\n",
       "    </tr>\n",
       "    <tr>\n",
       "      <th>215</th>\n",
       "      <td>MKT7287</td>\n",
       "      <td>50</td>\n",
       "      <td>Marketing</td>\n",
       "      <td>City</td>\n",
       "      <td>PG</td>\n",
       "      <td>Referral</td>\n",
       "      <td>2</td>\n",
       "      <td>2</td>\n",
       "      <td>0</td>\n",
       "      <td>1</td>\n",
       "      <td>0</td>\n",
       "      <td>29805</td>\n",
       "      <td>0</td>\n",
       "    </tr>\n",
       "  </tbody>\n",
       "</table>\n",
       "</div>"
      ],
      "text/plain": [
       "      emp_id  age       Dept location education recruitment_type  job_level  \\\n",
       "188  MKT7287   41  Marketing     City        UG         Referral          2   \n",
       "215  MKT7287   50  Marketing     City        PG         Referral          2   \n",
       "\n",
       "     rating  onsite  awards  certifications  salary  satisfied  \n",
       "188       5       0       0               1   29805          1  \n",
       "215       2       0       1               0   29805          0  "
      ]
     },
     "execution_count": 24,
     "metadata": {},
     "output_type": "execute_result"
    }
   ],
   "source": [
    "df[df['emp_id'].duplicated(keep=False)]"
   ]
  },
  {
   "cell_type": "code",
   "execution_count": 26,
   "id": "faf1c788-3cab-4f17-9169-effc7840de37",
   "metadata": {},
   "outputs": [],
   "source": [
    "df.loc[215,'emp_id']='MKT7000'"
   ]
  },
  {
   "cell_type": "code",
   "execution_count": 30,
   "id": "d1a301f1-9fb8-44d0-91bf-98fe4cf6e4db",
   "metadata": {},
   "outputs": [
    {
     "data": {
      "text/html": [
       "<div>\n",
       "<style scoped>\n",
       "    .dataframe tbody tr th:only-of-type {\n",
       "        vertical-align: middle;\n",
       "    }\n",
       "\n",
       "    .dataframe tbody tr th {\n",
       "        vertical-align: top;\n",
       "    }\n",
       "\n",
       "    .dataframe thead th {\n",
       "        text-align: right;\n",
       "    }\n",
       "</style>\n",
       "<table border=\"1\" class=\"dataframe\">\n",
       "  <thead>\n",
       "    <tr style=\"text-align: right;\">\n",
       "      <th></th>\n",
       "      <th>emp_id</th>\n",
       "      <th>Dept</th>\n",
       "      <th>location</th>\n",
       "      <th>education</th>\n",
       "      <th>recruitment_type</th>\n",
       "    </tr>\n",
       "  </thead>\n",
       "  <tbody>\n",
       "    <tr>\n",
       "      <th>count</th>\n",
       "      <td>500</td>\n",
       "      <td>500</td>\n",
       "      <td>500</td>\n",
       "      <td>500</td>\n",
       "      <td>500</td>\n",
       "    </tr>\n",
       "    <tr>\n",
       "      <th>unique</th>\n",
       "      <td>500</td>\n",
       "      <td>5</td>\n",
       "      <td>2</td>\n",
       "      <td>2</td>\n",
       "      <td>4</td>\n",
       "    </tr>\n",
       "    <tr>\n",
       "      <th>top</th>\n",
       "      <td>HR8270</td>\n",
       "      <td>Purchasing</td>\n",
       "      <td>City</td>\n",
       "      <td>PG</td>\n",
       "      <td>On-Campus</td>\n",
       "    </tr>\n",
       "    <tr>\n",
       "      <th>freq</th>\n",
       "      <td>1</td>\n",
       "      <td>109</td>\n",
       "      <td>259</td>\n",
       "      <td>254</td>\n",
       "      <td>133</td>\n",
       "    </tr>\n",
       "  </tbody>\n",
       "</table>\n",
       "</div>"
      ],
      "text/plain": [
       "        emp_id        Dept location education recruitment_type\n",
       "count      500         500      500       500              500\n",
       "unique     500           5        2         2                4\n",
       "top     HR8270  Purchasing     City        PG        On-Campus\n",
       "freq         1         109      259       254              133"
      ]
     },
     "execution_count": 30,
     "metadata": {},
     "output_type": "execute_result"
    }
   ],
   "source": [
    "df.describe(include='object')"
   ]
  },
  {
   "cell_type": "code",
   "execution_count": 31,
   "id": "61f73731-c3e8-415e-af19-02c1b37e19e4",
   "metadata": {},
   "outputs": [],
   "source": [
    "#Checking the missing and duplicate values"
   ]
  },
  {
   "cell_type": "code",
   "execution_count": 32,
   "id": "3c7df7af-302b-444d-9696-ac00929710c1",
   "metadata": {},
   "outputs": [
    {
     "data": {
      "text/html": [
       "<div>\n",
       "<style scoped>\n",
       "    .dataframe tbody tr th:only-of-type {\n",
       "        vertical-align: middle;\n",
       "    }\n",
       "\n",
       "    .dataframe tbody tr th {\n",
       "        vertical-align: top;\n",
       "    }\n",
       "\n",
       "    .dataframe thead th {\n",
       "        text-align: right;\n",
       "    }\n",
       "</style>\n",
       "<table border=\"1\" class=\"dataframe\">\n",
       "  <thead>\n",
       "    <tr style=\"text-align: right;\">\n",
       "      <th></th>\n",
       "      <th>emp_id</th>\n",
       "      <th>age</th>\n",
       "      <th>Dept</th>\n",
       "      <th>location</th>\n",
       "      <th>education</th>\n",
       "      <th>recruitment_type</th>\n",
       "      <th>job_level</th>\n",
       "      <th>rating</th>\n",
       "      <th>onsite</th>\n",
       "      <th>awards</th>\n",
       "      <th>certifications</th>\n",
       "      <th>salary</th>\n",
       "      <th>satisfied</th>\n",
       "    </tr>\n",
       "  </thead>\n",
       "  <tbody>\n",
       "    <tr>\n",
       "      <th>0</th>\n",
       "      <td>HR8270</td>\n",
       "      <td>28</td>\n",
       "      <td>HR</td>\n",
       "      <td>Suburb</td>\n",
       "      <td>PG</td>\n",
       "      <td>Referral</td>\n",
       "      <td>5</td>\n",
       "      <td>2</td>\n",
       "      <td>0</td>\n",
       "      <td>1</td>\n",
       "      <td>0</td>\n",
       "      <td>86750</td>\n",
       "      <td>1</td>\n",
       "    </tr>\n",
       "    <tr>\n",
       "      <th>1</th>\n",
       "      <td>TECH1860</td>\n",
       "      <td>50</td>\n",
       "      <td>Technology</td>\n",
       "      <td>Suburb</td>\n",
       "      <td>PG</td>\n",
       "      <td>Walk-in</td>\n",
       "      <td>3</td>\n",
       "      <td>5</td>\n",
       "      <td>1</td>\n",
       "      <td>2</td>\n",
       "      <td>1</td>\n",
       "      <td>42419</td>\n",
       "      <td>0</td>\n",
       "    </tr>\n",
       "  </tbody>\n",
       "</table>\n",
       "</div>"
      ],
      "text/plain": [
       "     emp_id  age        Dept location education recruitment_type  job_level  \\\n",
       "0    HR8270   28          HR   Suburb        PG         Referral          5   \n",
       "1  TECH1860   50  Technology   Suburb        PG          Walk-in          3   \n",
       "\n",
       "   rating  onsite  awards  certifications  salary  satisfied  \n",
       "0       2       0       1               0   86750          1  \n",
       "1       5       1       2               1   42419          0  "
      ]
     },
     "execution_count": 32,
     "metadata": {},
     "output_type": "execute_result"
    }
   ],
   "source": [
    "df.head(2)"
   ]
  },
  {
   "cell_type": "code",
   "execution_count": 34,
   "id": "15fc407d-54e9-4821-a655-c273bb101fcf",
   "metadata": {},
   "outputs": [
    {
     "data": {
      "text/plain": [
       "emp_id              500\n",
       "age                 500\n",
       "Dept                500\n",
       "location            500\n",
       "education           500\n",
       "recruitment_type    500\n",
       "job_level           500\n",
       "rating              500\n",
       "onsite              500\n",
       "awards              500\n",
       "certifications      500\n",
       "salary              500\n",
       "satisfied           500\n",
       "dtype: int64"
      ]
     },
     "execution_count": 34,
     "metadata": {},
     "output_type": "execute_result"
    }
   ],
   "source": [
    "df.notnull().sum()"
   ]
  },
  {
   "cell_type": "code",
   "execution_count": 36,
   "id": "e05b2656-2d12-4a29-a44d-9d136917a8d4",
   "metadata": {},
   "outputs": [
    {
     "data": {
      "text/html": [
       "<div>\n",
       "<style scoped>\n",
       "    .dataframe tbody tr th:only-of-type {\n",
       "        vertical-align: middle;\n",
       "    }\n",
       "\n",
       "    .dataframe tbody tr th {\n",
       "        vertical-align: top;\n",
       "    }\n",
       "\n",
       "    .dataframe thead th {\n",
       "        text-align: right;\n",
       "    }\n",
       "</style>\n",
       "<table border=\"1\" class=\"dataframe\">\n",
       "  <thead>\n",
       "    <tr style=\"text-align: right;\">\n",
       "      <th></th>\n",
       "      <th>emp_id</th>\n",
       "      <th>age</th>\n",
       "      <th>Dept</th>\n",
       "      <th>location</th>\n",
       "      <th>education</th>\n",
       "      <th>recruitment_type</th>\n",
       "      <th>job_level</th>\n",
       "      <th>rating</th>\n",
       "      <th>onsite</th>\n",
       "      <th>awards</th>\n",
       "      <th>certifications</th>\n",
       "      <th>salary</th>\n",
       "      <th>satisfied</th>\n",
       "    </tr>\n",
       "  </thead>\n",
       "  <tbody>\n",
       "  </tbody>\n",
       "</table>\n",
       "</div>"
      ],
      "text/plain": [
       "Empty DataFrame\n",
       "Columns: [emp_id, age, Dept, location, education, recruitment_type, job_level, rating, onsite, awards, certifications, salary, satisfied]\n",
       "Index: []"
      ]
     },
     "execution_count": 36,
     "metadata": {},
     "output_type": "execute_result"
    }
   ],
   "source": [
    " df[df.duplicated()]"
   ]
  },
  {
   "cell_type": "code",
   "execution_count": 38,
   "id": "47e36c02-04b8-4c7e-ad6a-940731fe0e28",
   "metadata": {},
   "outputs": [
    {
     "data": {
      "text/html": [
       "<div>\n",
       "<style scoped>\n",
       "    .dataframe tbody tr th:only-of-type {\n",
       "        vertical-align: middle;\n",
       "    }\n",
       "\n",
       "    .dataframe tbody tr th {\n",
       "        vertical-align: top;\n",
       "    }\n",
       "\n",
       "    .dataframe thead th {\n",
       "        text-align: right;\n",
       "    }\n",
       "</style>\n",
       "<table border=\"1\" class=\"dataframe\">\n",
       "  <thead>\n",
       "    <tr style=\"text-align: right;\">\n",
       "      <th></th>\n",
       "      <th>emp_id</th>\n",
       "      <th>age</th>\n",
       "      <th>Dept</th>\n",
       "      <th>location</th>\n",
       "      <th>education</th>\n",
       "      <th>recruitment_type</th>\n",
       "      <th>job_level</th>\n",
       "      <th>rating</th>\n",
       "      <th>onsite</th>\n",
       "      <th>awards</th>\n",
       "      <th>certifications</th>\n",
       "      <th>salary</th>\n",
       "      <th>satisfied</th>\n",
       "    </tr>\n",
       "  </thead>\n",
       "  <tbody>\n",
       "    <tr>\n",
       "      <th>0</th>\n",
       "      <td>HR8270</td>\n",
       "      <td>28</td>\n",
       "      <td>HR</td>\n",
       "      <td>Suburb</td>\n",
       "      <td>PG</td>\n",
       "      <td>Referral</td>\n",
       "      <td>5</td>\n",
       "      <td>2</td>\n",
       "      <td>0</td>\n",
       "      <td>1</td>\n",
       "      <td>0</td>\n",
       "      <td>86750</td>\n",
       "      <td>1</td>\n",
       "    </tr>\n",
       "    <tr>\n",
       "      <th>1</th>\n",
       "      <td>TECH1860</td>\n",
       "      <td>50</td>\n",
       "      <td>Technology</td>\n",
       "      <td>Suburb</td>\n",
       "      <td>PG</td>\n",
       "      <td>Walk-in</td>\n",
       "      <td>3</td>\n",
       "      <td>5</td>\n",
       "      <td>1</td>\n",
       "      <td>2</td>\n",
       "      <td>1</td>\n",
       "      <td>42419</td>\n",
       "      <td>0</td>\n",
       "    </tr>\n",
       "    <tr>\n",
       "      <th>2</th>\n",
       "      <td>TECH6390</td>\n",
       "      <td>43</td>\n",
       "      <td>Technology</td>\n",
       "      <td>Suburb</td>\n",
       "      <td>UG</td>\n",
       "      <td>Referral</td>\n",
       "      <td>4</td>\n",
       "      <td>1</td>\n",
       "      <td>0</td>\n",
       "      <td>2</td>\n",
       "      <td>0</td>\n",
       "      <td>65715</td>\n",
       "      <td>0</td>\n",
       "    </tr>\n",
       "    <tr>\n",
       "      <th>3</th>\n",
       "      <td>SAL6191</td>\n",
       "      <td>44</td>\n",
       "      <td>Sales</td>\n",
       "      <td>City</td>\n",
       "      <td>PG</td>\n",
       "      <td>On-Campus</td>\n",
       "      <td>2</td>\n",
       "      <td>3</td>\n",
       "      <td>1</td>\n",
       "      <td>0</td>\n",
       "      <td>0</td>\n",
       "      <td>29805</td>\n",
       "      <td>1</td>\n",
       "    </tr>\n",
       "    <tr>\n",
       "      <th>4</th>\n",
       "      <td>HR6734</td>\n",
       "      <td>33</td>\n",
       "      <td>HR</td>\n",
       "      <td>City</td>\n",
       "      <td>UG</td>\n",
       "      <td>Recruitment Agency</td>\n",
       "      <td>2</td>\n",
       "      <td>1</td>\n",
       "      <td>0</td>\n",
       "      <td>5</td>\n",
       "      <td>0</td>\n",
       "      <td>29805</td>\n",
       "      <td>1</td>\n",
       "    </tr>\n",
       "  </tbody>\n",
       "</table>\n",
       "</div>"
      ],
      "text/plain": [
       "     emp_id  age        Dept location education    recruitment_type  \\\n",
       "0    HR8270   28          HR   Suburb        PG            Referral   \n",
       "1  TECH1860   50  Technology   Suburb        PG             Walk-in   \n",
       "2  TECH6390   43  Technology   Suburb        UG            Referral   \n",
       "3   SAL6191   44       Sales     City        PG           On-Campus   \n",
       "4    HR6734   33          HR     City        UG  Recruitment Agency   \n",
       "\n",
       "   job_level  rating  onsite  awards  certifications  salary  satisfied  \n",
       "0          5       2       0       1               0   86750          1  \n",
       "1          3       5       1       2               1   42419          0  \n",
       "2          4       1       0       2               0   65715          0  \n",
       "3          2       3       1       0               0   29805          1  \n",
       "4          2       1       0       5               0   29805          1  "
      ]
     },
     "execution_count": 38,
     "metadata": {},
     "output_type": "execute_result"
    }
   ],
   "source": [
    "#1.Analyzing the satisfied variable\n",
    "df.head()"
   ]
  },
  {
   "cell_type": "code",
   "execution_count": 40,
   "id": "9f98dfd0-3275-46f7-a6f5-f4d4e586138b",
   "metadata": {},
   "outputs": [
    {
     "data": {
      "text/plain": [
       "array([1, 0], dtype=int64)"
      ]
     },
     "execution_count": 40,
     "metadata": {},
     "output_type": "execute_result"
    }
   ],
   "source": [
    "df['satisfied'].unique()"
   ]
  },
  {
   "cell_type": "code",
   "execution_count": 42,
   "id": "3cf5fb15-a2e2-449d-8b8e-fed5bba95dcc",
   "metadata": {},
   "outputs": [
    {
     "name": "stdout",
     "output_type": "stream",
     "text": [
      "1    263\n",
      "0    237\n",
      "Name: satisfied, dtype: int64\n"
     ]
    }
   ],
   "source": [
    "a=df['satisfied'].value_counts()\n",
    "print(a)"
   ]
  },
  {
   "cell_type": "code",
   "execution_count": 44,
   "id": "13313353-4f16-4384-b65e-882d60fc99f7",
   "metadata": {},
   "outputs": [
    {
     "name": "stdout",
     "output_type": "stream",
     "text": [
      "Percentage of not satisfied employee: 47.4%\n"
     ]
    }
   ],
   "source": [
    "not_satisfied=str((237/500)*100)+\"%\"\n",
    "print(\"Percentage of not satisfied employee:\",not_satisfied)"
   ]
  },
  {
   "cell_type": "code",
   "execution_count": 46,
   "id": "eca147dc-9241-4ed9-aac2-39d8411dc43f",
   "metadata": {},
   "outputs": [
    {
     "name": "stdout",
     "output_type": "stream",
     "text": [
      "Percentage of  satisfied employee: 52.6%\n"
     ]
    }
   ],
   "source": [
    "satisfied=str((263/500)*100)+\"%\"\n",
    "print(\"Percentage of  satisfied employee:\",satisfied)"
   ]
  },
  {
   "cell_type": "code",
   "execution_count": 48,
   "id": "69bb34ac-b432-4721-ab46-5601c3d4392f",
   "metadata": {},
   "outputs": [
    {
     "data": {
      "text/plain": [
       "pandas.core.series.Series"
      ]
     },
     "execution_count": 48,
     "metadata": {},
     "output_type": "execute_result"
    }
   ],
   "source": [
    "type(a)"
   ]
  },
  {
   "cell_type": "code",
   "execution_count": 52,
   "id": "c8e60d90-b6d0-4199-b251-e3815f240dec",
   "metadata": {},
   "outputs": [
    {
     "data": {
      "image/png": "[encoded data removed]",
      "text/plain": [
       "<Figure size 640x480 with 1 Axes>"
      ]
     },
     "metadata": {},
     "output_type": "display_data"
    }
   ],
   "source": [
    "#Let's make pie chart\n",
    "plt.pie(a,labels=['satisfied','not_satisfied'],colors=['Blue','Red'],startangle=50,shadow=True,radius=1,explode=(0,0.2),autopct=\"%1.2f\")\n",
    "plt.title(\"Representation of Employee Satisfactory\")\n",
    "plt.show()"
   ]
  },
  {
   "cell_type": "code",
   "execution_count": 174,
   "id": "5a05b6aa-c163-4d13-97b7-0b78480f6338",
   "metadata": {},
   "outputs": [
    {
     "data": {
      "image/png": "[encoded data removed]",
      "text/plain": [
       "<Figure size 640x480 with 1 Axes>"
      ]
     },
     "metadata": {},
     "output_type": "display_data"
    }
   ],
   "source": [
    "#representing the data in donut chart\n",
    "plt.pie(a,labels=['satisfied','not_satisfied'],colors=['Blue','Red'],startangle=50,shadow=True,radius=1,explode=(0,0.2),autopct=\"%1.2f\")\n",
    "circle=plt.Circle((0,0),0.70,color='white')\n",
    "c=plt.gcf() #gcf():get current figure\n",
    "c.gca().add_artist(circle) #gca():get current axis\n",
    "plt.title(\"Representation of Employee Satisfactory\")\n",
    "plt.show()"
   ]
  },
  {
   "cell_type": "code",
   "execution_count": 54,
   "id": "e86b58e2-476a-4ba5-baa3-c0f862f65bb8",
   "metadata": {},
   "outputs": [
    {
     "data": {
      "image/png": "[encoded data removed]",
      "text/plain": [
       "<Figure size 640x480 with 1 Axes>"
      ]
     },
     "metadata": {},
     "output_type": "display_data"
    }
   ],
   "source": [
    "#Representing in Countplot for Employee Satisfactory\n",
    "import matplotlib.patches as mpatches\n",
    "ax=sns.countplot(x=df['satisfied'])\n",
    "plt.xlabel('Satified')\n",
    "plt.ylabel('Count Values')\n",
    "colors=[patch.get_facecolor() for patch in ax.patches]\n",
    "not_satisfied_patch=mpatches.Patch(color=colors[0],label=\"Not Satisfied\")\n",
    "satisfied_patch=mpatches.Patch(color=colors[1],label=\"Satisfied\")\n",
    "plt.legend(handles=[not_satisfied_patch,satisfied_patch],loc='lower right')\n",
    "plt.title('Countplot for Employee Satisfactory')\n",
    "plt.show()"
   ]
  },
  {
   "cell_type": "code",
   "execution_count": 222,
   "id": "61d952a0-c73e-43dc-a9c9-f479bdb8f89a",
   "metadata": {},
   "outputs": [
    {
     "name": "stdout",
     "output_type": "stream",
     "text": [
      "0    237\n",
      "1    263\n",
      "Name: satisfied, dtype: int64\n"
     ]
    },
    {
     "data": {
      "image/png": "[encoded data removed]",
      "text/plain": [
       "<Figure size 640x480 with 1 Axes>"
      ]
     },
     "metadata": {},
     "output_type": "display_data"
    }
   ],
   "source": [
    "#let make annotations\n",
    "import matplotlib.patches as mpatches\n",
    "ax=sns.countplot(x=df['satisfied'])\n",
    "plt.xlabel('Satified')\n",
    "plt.ylabel('Count Values')\n",
    "plt.title('Countplot for Employee Satisfactory')\n",
    "\n",
    "satisfied_counts=df['satisfied'].value_counts().sort_index()\n",
    "print(satisfied_counts)\n",
    "\n",
    "for index,value in enumerate(satisfied_counts):\n",
    "    ax.text(index,value,str(value))\n",
    "\n",
    "colors=[patch.get_facecolor() for patch in ax.patches]\n",
    "not_satisfied_patch=mpatches.Patch(color=colors[0],label=\"Not Satisfied\")\n",
    "satisfied_patch=mpatches.Patch(color=colors[1],label=\"Satisfied\")\n",
    "plt.legend(handles=[not_satisfied_patch,satisfied_patch],loc='lower right')\n",
    "plt.show()"
   ]
  },
  {
   "cell_type": "code",
   "execution_count": 56,
   "id": "33abe251-2a2a-4ba6-8182-feec37fefb65",
   "metadata": {},
   "outputs": [
    {
     "data": {
      "text/html": [
       "<div>\n",
       "<style scoped>\n",
       "    .dataframe tbody tr th:only-of-type {\n",
       "        vertical-align: middle;\n",
       "    }\n",
       "\n",
       "    .dataframe tbody tr th {\n",
       "        vertical-align: top;\n",
       "    }\n",
       "\n",
       "    .dataframe thead th {\n",
       "        text-align: right;\n",
       "    }\n",
       "</style>\n",
       "<table border=\"1\" class=\"dataframe\">\n",
       "  <thead>\n",
       "    <tr style=\"text-align: right;\">\n",
       "      <th></th>\n",
       "      <th>emp_id</th>\n",
       "      <th>age</th>\n",
       "      <th>Dept</th>\n",
       "      <th>location</th>\n",
       "      <th>education</th>\n",
       "      <th>recruitment_type</th>\n",
       "      <th>job_level</th>\n",
       "      <th>rating</th>\n",
       "      <th>onsite</th>\n",
       "      <th>awards</th>\n",
       "      <th>certifications</th>\n",
       "      <th>salary</th>\n",
       "      <th>satisfied</th>\n",
       "    </tr>\n",
       "  </thead>\n",
       "  <tbody>\n",
       "    <tr>\n",
       "      <th>0</th>\n",
       "      <td>HR8270</td>\n",
       "      <td>28</td>\n",
       "      <td>HR</td>\n",
       "      <td>Suburb</td>\n",
       "      <td>PG</td>\n",
       "      <td>Referral</td>\n",
       "      <td>5</td>\n",
       "      <td>2</td>\n",
       "      <td>0</td>\n",
       "      <td>1</td>\n",
       "      <td>0</td>\n",
       "      <td>86750</td>\n",
       "      <td>1</td>\n",
       "    </tr>\n",
       "    <tr>\n",
       "      <th>1</th>\n",
       "      <td>TECH1860</td>\n",
       "      <td>50</td>\n",
       "      <td>Technology</td>\n",
       "      <td>Suburb</td>\n",
       "      <td>PG</td>\n",
       "      <td>Walk-in</td>\n",
       "      <td>3</td>\n",
       "      <td>5</td>\n",
       "      <td>1</td>\n",
       "      <td>2</td>\n",
       "      <td>1</td>\n",
       "      <td>42419</td>\n",
       "      <td>0</td>\n",
       "    </tr>\n",
       "    <tr>\n",
       "      <th>2</th>\n",
       "      <td>TECH6390</td>\n",
       "      <td>43</td>\n",
       "      <td>Technology</td>\n",
       "      <td>Suburb</td>\n",
       "      <td>UG</td>\n",
       "      <td>Referral</td>\n",
       "      <td>4</td>\n",
       "      <td>1</td>\n",
       "      <td>0</td>\n",
       "      <td>2</td>\n",
       "      <td>0</td>\n",
       "      <td>65715</td>\n",
       "      <td>0</td>\n",
       "    </tr>\n",
       "    <tr>\n",
       "      <th>3</th>\n",
       "      <td>SAL6191</td>\n",
       "      <td>44</td>\n",
       "      <td>Sales</td>\n",
       "      <td>City</td>\n",
       "      <td>PG</td>\n",
       "      <td>On-Campus</td>\n",
       "      <td>2</td>\n",
       "      <td>3</td>\n",
       "      <td>1</td>\n",
       "      <td>0</td>\n",
       "      <td>0</td>\n",
       "      <td>29805</td>\n",
       "      <td>1</td>\n",
       "    </tr>\n",
       "    <tr>\n",
       "      <th>4</th>\n",
       "      <td>HR6734</td>\n",
       "      <td>33</td>\n",
       "      <td>HR</td>\n",
       "      <td>City</td>\n",
       "      <td>UG</td>\n",
       "      <td>Recruitment Agency</td>\n",
       "      <td>2</td>\n",
       "      <td>1</td>\n",
       "      <td>0</td>\n",
       "      <td>5</td>\n",
       "      <td>0</td>\n",
       "      <td>29805</td>\n",
       "      <td>1</td>\n",
       "    </tr>\n",
       "  </tbody>\n",
       "</table>\n",
       "</div>"
      ],
      "text/plain": [
       "     emp_id  age        Dept location education    recruitment_type  \\\n",
       "0    HR8270   28          HR   Suburb        PG            Referral   \n",
       "1  TECH1860   50  Technology   Suburb        PG             Walk-in   \n",
       "2  TECH6390   43  Technology   Suburb        UG            Referral   \n",
       "3   SAL6191   44       Sales     City        PG           On-Campus   \n",
       "4    HR6734   33          HR     City        UG  Recruitment Agency   \n",
       "\n",
       "   job_level  rating  onsite  awards  certifications  salary  satisfied  \n",
       "0          5       2       0       1               0   86750          1  \n",
       "1          3       5       1       2               1   42419          0  \n",
       "2          4       1       0       2               0   65715          0  \n",
       "3          2       3       1       0               0   29805          1  \n",
       "4          2       1       0       5               0   29805          1  "
      ]
     },
     "execution_count": 56,
     "metadata": {},
     "output_type": "execute_result"
    }
   ],
   "source": [
    "#Let's Analyze the Department Variable\n",
    "df.head()"
   ]
  },
  {
   "cell_type": "code",
   "execution_count": 58,
   "id": "806eb2c9-83c9-4531-8bd7-f0cb63dce4fc",
   "metadata": {},
   "outputs": [
    {
     "data": {
      "text/plain": [
       "array(['HR', 'Technology', 'Sales', 'Purchasing', 'Marketing'],\n",
       "      dtype=object)"
      ]
     },
     "execution_count": 58,
     "metadata": {},
     "output_type": "execute_result"
    }
   ],
   "source": [
    "df['Dept'].unique()"
   ]
  },
  {
   "cell_type": "code",
   "execution_count": 60,
   "id": "d0fd2d1a-426e-4dc6-8ded-35574bad41a0",
   "metadata": {},
   "outputs": [
    {
     "data": {
      "text/plain": [
       "5"
      ]
     },
     "execution_count": 60,
     "metadata": {},
     "output_type": "execute_result"
    }
   ],
   "source": [
    "df['Dept'].nunique()"
   ]
  },
  {
   "cell_type": "code",
   "execution_count": 62,
   "id": "34baca24-4dd1-46cb-9d93-01ae94751be8",
   "metadata": {},
   "outputs": [
    {
     "data": {
      "text/plain": [
       "Purchasing    109\n",
       "HR            106\n",
       "Technology     98\n",
       "Marketing      95\n",
       "Sales          92\n",
       "Name: Dept, dtype: int64"
      ]
     },
     "execution_count": 62,
     "metadata": {},
     "output_type": "execute_result"
    }
   ],
   "source": [
    "df['Dept'].value_counts()"
   ]
  },
  {
   "cell_type": "code",
   "execution_count": 64,
   "id": "8211221a-c428-40ba-89db-1a9274d0eaa1",
   "metadata": {},
   "outputs": [
    {
     "data": {
      "text/plain": [
       "Sales          92\n",
       "Marketing      95\n",
       "Technology     98\n",
       "HR            106\n",
       "Purchasing    109\n",
       "Name: Dept, dtype: int64"
      ]
     },
     "execution_count": 64,
     "metadata": {},
     "output_type": "execute_result"
    }
   ],
   "source": [
    "df['Dept'].value_counts(ascending=True)"
   ]
  },
  {
   "cell_type": "code",
   "execution_count": 66,
   "id": "fcf3cd82-5e4a-4c5f-8137-c0b3e8aaa375",
   "metadata": {},
   "outputs": [
    {
     "data": {
      "text/plain": [
       "HR            106\n",
       "Marketing      95\n",
       "Purchasing    109\n",
       "Sales          92\n",
       "Technology     98\n",
       "Name: Dept, dtype: int64"
      ]
     },
     "execution_count": 66,
     "metadata": {},
     "output_type": "execute_result"
    }
   ],
   "source": [
    "df['Dept'].value_counts().sort_index()"
   ]
  },
  {
   "cell_type": "code",
   "execution_count": 72,
   "id": "7388a0b9-1ab7-4790-b4ee-5f66118020b5",
   "metadata": {},
   "outputs": [
    {
     "data": {
      "image/png": "[encoded data removed]",
      "text/plain": [
       "<Figure size 640x480 with 1 Axes>"
      ]
     },
     "metadata": {},
     "output_type": "display_data"
    },
    {
     "data": {
      "text/plain": [
       "<Figure size 2000x700 with 0 Axes>"
      ]
     },
     "metadata": {},
     "output_type": "display_data"
    }
   ],
   "source": [
    "#Visulaizing the Employee Satisfactory Department wise\n",
    "ax=sns.countplot(x=df['Dept'])\n",
    "plt.title('Visulaizing the Employee Satisfactory Department wise')\n",
    "plt.xticks(fontsize=13)\n",
    "plt.yticks(fontsize=13)\n",
    "plt.xlabel('Departments',color='Red',fontsize=20)\n",
    "plt.ylabel('Counts',color='Green',fontsize=20)\n",
    "# Adding annotations on a top of each bar\n",
    "for p in ax.patches:\n",
    "    ax.annotate(format(p.get_height(),'.0f'),(p.get_x()+p.get_width()/2.0,p.get_height()),\n",
    "                ha='center',\n",
    "                va='center',\n",
    "                xytext=(0,10),\n",
    "                textcoords='offset points')\n",
    "plt.figure(figsize=(20,7))\n",
    "plt.show()"
   ]
  },
  {
   "cell_type": "code",
   "execution_count": 74,
   "id": "d48e8ba3-5b1e-4040-984b-b52464f7d3ca",
   "metadata": {},
   "outputs": [
    {
     "data": {
      "image/png": "[encoded data removed]",
      "text/plain": [
       "<Figure size 2000x700 with 1 Axes>"
      ]
     },
     "metadata": {},
     "output_type": "display_data"
    }
   ],
   "source": [
    "#Visualizing the Employee Satisfactory in Bar Chart using Pandas\n",
    "plt.figure(figsize=(20,7))\n",
    "plt.title('Visulaizing the Employee Satisfactory Department wise in Bar Chart using Pandas')\n",
    "df['Dept'].value_counts().plot(kind='bar')\n",
    "plt.xticks(fontsize=13,rotation=10)\n",
    "plt.yticks(fontsize=13)\n",
    "plt.xlabel('Departments',color='Red',fontsize=20)\n",
    "plt.ylabel('Counts',color='Green',fontsize=20)\n",
    "plt.show()"
   ]
  },
  {
   "cell_type": "code",
   "execution_count": 92,
   "id": "c9bc2b66-63e6-454c-9404-1108541b51af",
   "metadata": {},
   "outputs": [
    {
     "data": {
      "image/png": "[encoded data removed]",
      "text/plain": [
       "<Figure size 2000x700 with 1 Axes>"
      ]
     },
     "metadata": {},
     "output_type": "display_data"
    }
   ],
   "source": [
    "#let's show the Satisfied/Not-Satisfied Department Wise\n",
    "\n",
    "sns.set(style=\"dark\") \n",
    "plt.figure(figsize=(20,7))\n",
    "sns.countplot(x = df.Dept, hue = df.satisfied)\n",
    "plt.xlabel('Department', fontsize=18, color='DarkBlue')\n",
    "plt.ylabel('Count', fontsize=18, color='DarkOrange')\n",
    "plt.show()"
   ]
  },
  {
   "cell_type": "code",
   "execution_count": 100,
   "id": "d70b4a6b-fc99-4f0e-ba9c-3d73cce0743d",
   "metadata": {},
   "outputs": [
    {
     "name": "stdout",
     "output_type": "stream",
     "text": [
      "Dept        satisfied\n",
      "HR          0            53\n",
      "            1            53\n",
      "Marketing   0            51\n",
      "            1            44\n",
      "Purchasing  0            47\n",
      "            1            62\n",
      "Sales       0            41\n",
      "            1            51\n",
      "Technology  0            45\n",
      "            1            53\n",
      "dtype: int64\n"
     ]
    }
   ],
   "source": [
    "# Now we will group_by the data\n",
    "department_wise_counts = df.groupby(['Dept', 'satisfied']).size()\n",
    "print(department_wise_counts)"
   ]
  },
  {
   "cell_type": "code",
   "execution_count": 133,
   "id": "32fdd524-a31a-4e1d-902a-bb407839c768",
   "metadata": {},
   "outputs": [
    {
     "data": {
      "text/plain": [
       "Dept\n",
       "Marketing     46.315789\n",
       "HR            50.000000\n",
       "Technology    54.081633\n",
       "Sales         55.434783\n",
       "Purchasing    56.880734\n",
       "Name: satisfied, dtype: float64"
      ]
     },
     "execution_count": 133,
     "metadata": {},
     "output_type": "execute_result"
    }
   ],
   "source": [
    "#Let's Calculate the average 'Satisfaction' for each Department\n",
    "a = df.groupby(\"Dept\")[\"satisfied\"].mean() * 100\n",
    "a.sort_values()"
   ]
  },
  {
   "cell_type": "code",
   "execution_count": 137,
   "id": "48d33cda-2526-4920-b3e6-21db45c4a821",
   "metadata": {},
   "outputs": [
    {
     "name": "stdout",
     "output_type": "stream",
     "text": [
      "Dept\n",
      "Purchasing    56.880734\n",
      "Sales         55.434783\n",
      "Name: satisfied, dtype: float64\n"
     ]
    }
   ],
   "source": [
    "#Now let's show the top 2 departments with the highest satifaction rate\n",
    "print(df.groupby(\"Dept\") ['satisfied'].mean().sort_values (ascending=False).head(2)*100)"
   ]
  },
  {
   "cell_type": "code",
   "execution_count": 143,
   "id": "66dc1b99-130c-4ee1-b2e3-866d44941b65",
   "metadata": {},
   "outputs": [
    {
     "name": "stdout",
     "output_type": "stream",
     "text": [
      "Dept\n",
      "HR            50.000000\n",
      "Marketing     46.315789\n",
      "Purchasing    56.880734\n",
      "Sales         55.434783\n",
      "Technology    54.081633\n",
      "Name: satisfied, dtype: float64\n",
      "The department with the lowest satisfaction is: Marketing\n"
     ]
    }
   ],
   "source": [
    "# Calculating the mean 'satisfaction' for each department\n",
    "dept_satisfaction = df.groupby(\"Dept\")['satisfied'].mean()*100\n",
    "print(dept_satisfaction)\n",
    "# Finding the department with the lowest satisfaction\n",
    "lowest_satisfaction_dept = dept_satisfaction.idxmin()\n",
    "print(f\"The department with the lowest satisfaction is: {lowest_satisfaction_dept}\")"
   ]
  },
  {
   "cell_type": "code",
   "execution_count": 155,
   "id": "580e778f-0a38-47b1-b6ef-3491590860fa",
   "metadata": {},
   "outputs": [
    {
     "name": "stdout",
     "output_type": "stream",
     "text": [
      "satisfied     0    1  All  Percentage_Satisfied\n",
      "Dept                                           \n",
      "HR           53   53  106             50.000000\n",
      "Marketing    51   44   95             46.315789\n",
      "Purchasing   47   62  109             56.880734\n",
      "Sales        41   51   92             55.434783\n",
      "Technology   45   53   98             54.081633\n",
      "All         237  263  500             52.600000\n",
      "<class 'pandas.core.frame.DataFrame'>\n",
      "<class 'pandas.core.frame.DataFrame'>\n",
      "Index: 6 entries, HR to All\n",
      "Data columns (total 4 columns):\n",
      " #   Column                Non-Null Count  Dtype  \n",
      "---  ------                --------------  -----  \n",
      " 0   0                     6 non-null      int64  \n",
      " 1   1                     6 non-null      int64  \n",
      " 2   All                   6 non-null      int64  \n",
      " 3   Percentage_Satisfied  6 non-null      float64\n",
      "dtypes: float64(1), int64(3)\n",
      "memory usage: 240.0+ bytes\n"
     ]
    }
   ],
   "source": [
    " # Calculating Department vs Satisfaction Percentage\n",
    "c = pd.crosstab (df.Dept, df.satisfied, margins=True)\n",
    "c['Percentage_Satisfied'] = c [1]/(c['All']) * 100\n",
    "print(c)\n",
    "print(type(c))\n",
    "c.info()"
   ]
  },
  {
   "cell_type": "code",
   "execution_count": 165,
   "id": "c584bd07-679e-4d4b-9493-e9bb39b7829f",
   "metadata": {},
   "outputs": [
    {
     "name": "stdout",
     "output_type": "stream",
     "text": [
      "satisfied     0    1  All  Percentage_Satisfied\n",
      "Dept                                           \n",
      "Purchasing   47   62  109             56.880734\n",
      "Sales        41   51   92             55.434783\n",
      "Technology   45   53   98             54.081633\n",
      "All         237  263  500             52.600000\n",
      "HR           53   53  106             50.000000\n",
      "Marketing    51   44   95             46.315789\n"
     ]
    }
   ],
   "source": [
    "# Sorting the 'c' DataFrame by the 'Percentage Satisfied' column\n",
    "print(c.sort_values(by='Percentage_Satisfied', ascending = False))"
   ]
  },
  {
   "cell_type": "code",
   "execution_count": 167,
   "id": "3fb9765b-6e33-4260-8712-deb72f415d9e",
   "metadata": {},
   "outputs": [
    {
     "data": {
      "text/html": [
       "<div>\n",
       "<style scoped>\n",
       "    .dataframe tbody tr th:only-of-type {\n",
       "        vertical-align: middle;\n",
       "    }\n",
       "\n",
       "    .dataframe tbody tr th {\n",
       "        vertical-align: top;\n",
       "    }\n",
       "\n",
       "    .dataframe thead th {\n",
       "        text-align: right;\n",
       "    }\n",
       "</style>\n",
       "<table border=\"1\" class=\"dataframe\">\n",
       "  <thead>\n",
       "    <tr style=\"text-align: right;\">\n",
       "      <th></th>\n",
       "      <th>emp_id</th>\n",
       "      <th>age</th>\n",
       "      <th>Dept</th>\n",
       "      <th>location</th>\n",
       "      <th>education</th>\n",
       "      <th>recruitment_type</th>\n",
       "      <th>job_level</th>\n",
       "      <th>rating</th>\n",
       "      <th>onsite</th>\n",
       "      <th>awards</th>\n",
       "      <th>certifications</th>\n",
       "      <th>salary</th>\n",
       "      <th>satisfied</th>\n",
       "    </tr>\n",
       "  </thead>\n",
       "  <tbody>\n",
       "    <tr>\n",
       "      <th>0</th>\n",
       "      <td>HR8270</td>\n",
       "      <td>28</td>\n",
       "      <td>HR</td>\n",
       "      <td>Suburb</td>\n",
       "      <td>PG</td>\n",
       "      <td>Referral</td>\n",
       "      <td>5</td>\n",
       "      <td>2</td>\n",
       "      <td>0</td>\n",
       "      <td>1</td>\n",
       "      <td>0</td>\n",
       "      <td>86750</td>\n",
       "      <td>1</td>\n",
       "    </tr>\n",
       "    <tr>\n",
       "      <th>1</th>\n",
       "      <td>TECH1860</td>\n",
       "      <td>50</td>\n",
       "      <td>Technology</td>\n",
       "      <td>Suburb</td>\n",
       "      <td>PG</td>\n",
       "      <td>Walk-in</td>\n",
       "      <td>3</td>\n",
       "      <td>5</td>\n",
       "      <td>1</td>\n",
       "      <td>2</td>\n",
       "      <td>1</td>\n",
       "      <td>42419</td>\n",
       "      <td>0</td>\n",
       "    </tr>\n",
       "    <tr>\n",
       "      <th>2</th>\n",
       "      <td>TECH6390</td>\n",
       "      <td>43</td>\n",
       "      <td>Technology</td>\n",
       "      <td>Suburb</td>\n",
       "      <td>UG</td>\n",
       "      <td>Referral</td>\n",
       "      <td>4</td>\n",
       "      <td>1</td>\n",
       "      <td>0</td>\n",
       "      <td>2</td>\n",
       "      <td>0</td>\n",
       "      <td>65715</td>\n",
       "      <td>0</td>\n",
       "    </tr>\n",
       "    <tr>\n",
       "      <th>3</th>\n",
       "      <td>SAL6191</td>\n",
       "      <td>44</td>\n",
       "      <td>Sales</td>\n",
       "      <td>City</td>\n",
       "      <td>PG</td>\n",
       "      <td>On-Campus</td>\n",
       "      <td>2</td>\n",
       "      <td>3</td>\n",
       "      <td>1</td>\n",
       "      <td>0</td>\n",
       "      <td>0</td>\n",
       "      <td>29805</td>\n",
       "      <td>1</td>\n",
       "    </tr>\n",
       "    <tr>\n",
       "      <th>4</th>\n",
       "      <td>HR6734</td>\n",
       "      <td>33</td>\n",
       "      <td>HR</td>\n",
       "      <td>City</td>\n",
       "      <td>UG</td>\n",
       "      <td>Recruitment Agency</td>\n",
       "      <td>2</td>\n",
       "      <td>1</td>\n",
       "      <td>0</td>\n",
       "      <td>5</td>\n",
       "      <td>0</td>\n",
       "      <td>29805</td>\n",
       "      <td>1</td>\n",
       "    </tr>\n",
       "  </tbody>\n",
       "</table>\n",
       "</div>"
      ],
      "text/plain": [
       "     emp_id  age        Dept location education    recruitment_type  \\\n",
       "0    HR8270   28          HR   Suburb        PG            Referral   \n",
       "1  TECH1860   50  Technology   Suburb        PG             Walk-in   \n",
       "2  TECH6390   43  Technology   Suburb        UG            Referral   \n",
       "3   SAL6191   44       Sales     City        PG           On-Campus   \n",
       "4    HR6734   33          HR     City        UG  Recruitment Agency   \n",
       "\n",
       "   job_level  rating  onsite  awards  certifications  salary  satisfied  \n",
       "0          5       2       0       1               0   86750          1  \n",
       "1          3       5       1       2               1   42419          0  \n",
       "2          4       1       0       2               0   65715          0  \n",
       "3          2       3       1       0               0   29805          1  \n",
       "4          2       1       0       5               0   29805          1  "
      ]
     },
     "execution_count": 167,
     "metadata": {},
     "output_type": "execute_result"
    }
   ],
   "source": [
    "df.head()"
   ]
  },
  {
   "cell_type": "code",
   "execution_count": 181,
   "id": "8305b563-bba6-4b70-a3d1-7d0bbcefa3fa",
   "metadata": {},
   "outputs": [
    {
     "data": {
      "text/plain": [
       "Text(0, 0.5, 'Satisfaction Rate')"
      ]
     },
     "execution_count": 181,
     "metadata": {},
     "output_type": "execute_result"
    },
    {
     "data": {
      "image/png": "[encoded data removed]",
      "text/plain": [
       "<Figure size 2800x700 with 1 Axes>"
      ]
     },
     "metadata": {},
     "output_type": "display_data"
    }
   ],
   "source": [
    "#Calculate mean satisfaction for each department and sort it\n",
    "mean_satisfaction = df.groupby(\"Dept\")['satisfied'].mean()\n",
    "#mean_satisfaction = data.groupby(\"Dept\")['satisfied'].mean().sort_values()\n",
    "# Get sorted department names (X values)\n",
    "X = mean_satisfaction.index.tolist()\n",
    "#Get sorted satisfaction values (Y values)\n",
    "Y=mean_satisfaction.tolist()\n",
    "# Now plot\n",
    "sns.set(style=\"whitegrid\")\n",
    "plt.rcParams['figure.figsize'] =(28, 7) #width of 20 units and a height of 7 units\n",
    "plt.plot(X, Y, color=\"black\", marker=\"o\", markersize='10')\n",
    "plt.title(\"Department Satisfaction Graph\", fontsize=25)\n",
    "plt.xlabel(\"Departments\", fontsize=20)\n",
    "plt.ylabel(\"Satisfaction Rate\", fontsize=20)"
   ]
  },
  {
   "cell_type": "code",
   "execution_count": 183,
   "id": "e89ea57d-1ed5-45e7-8d28-850969c7e083",
   "metadata": {},
   "outputs": [
    {
     "data": {
      "text/html": [
       "<div>\n",
       "<style scoped>\n",
       "    .dataframe tbody tr th:only-of-type {\n",
       "        vertical-align: middle;\n",
       "    }\n",
       "\n",
       "    .dataframe tbody tr th {\n",
       "        vertical-align: top;\n",
       "    }\n",
       "\n",
       "    .dataframe thead th {\n",
       "        text-align: right;\n",
       "    }\n",
       "</style>\n",
       "<table border=\"1\" class=\"dataframe\">\n",
       "  <thead>\n",
       "    <tr style=\"text-align: right;\">\n",
       "      <th></th>\n",
       "      <th>emp_id</th>\n",
       "      <th>age</th>\n",
       "      <th>Dept</th>\n",
       "      <th>location</th>\n",
       "      <th>education</th>\n",
       "      <th>recruitment_type</th>\n",
       "      <th>job_level</th>\n",
       "      <th>rating</th>\n",
       "      <th>onsite</th>\n",
       "      <th>awards</th>\n",
       "      <th>certifications</th>\n",
       "      <th>salary</th>\n",
       "      <th>satisfied</th>\n",
       "    </tr>\n",
       "  </thead>\n",
       "  <tbody>\n",
       "    <tr>\n",
       "      <th>0</th>\n",
       "      <td>HR8270</td>\n",
       "      <td>28</td>\n",
       "      <td>HR</td>\n",
       "      <td>Suburb</td>\n",
       "      <td>PG</td>\n",
       "      <td>Referral</td>\n",
       "      <td>5</td>\n",
       "      <td>2</td>\n",
       "      <td>0</td>\n",
       "      <td>1</td>\n",
       "      <td>0</td>\n",
       "      <td>86750</td>\n",
       "      <td>1</td>\n",
       "    </tr>\n",
       "    <tr>\n",
       "      <th>1</th>\n",
       "      <td>TECH1860</td>\n",
       "      <td>50</td>\n",
       "      <td>Technology</td>\n",
       "      <td>Suburb</td>\n",
       "      <td>PG</td>\n",
       "      <td>Walk-in</td>\n",
       "      <td>3</td>\n",
       "      <td>5</td>\n",
       "      <td>1</td>\n",
       "      <td>2</td>\n",
       "      <td>1</td>\n",
       "      <td>42419</td>\n",
       "      <td>0</td>\n",
       "    </tr>\n",
       "    <tr>\n",
       "      <th>2</th>\n",
       "      <td>TECH6390</td>\n",
       "      <td>43</td>\n",
       "      <td>Technology</td>\n",
       "      <td>Suburb</td>\n",
       "      <td>UG</td>\n",
       "      <td>Referral</td>\n",
       "      <td>4</td>\n",
       "      <td>1</td>\n",
       "      <td>0</td>\n",
       "      <td>2</td>\n",
       "      <td>0</td>\n",
       "      <td>65715</td>\n",
       "      <td>0</td>\n",
       "    </tr>\n",
       "    <tr>\n",
       "      <th>3</th>\n",
       "      <td>SAL6191</td>\n",
       "      <td>44</td>\n",
       "      <td>Sales</td>\n",
       "      <td>City</td>\n",
       "      <td>PG</td>\n",
       "      <td>On-Campus</td>\n",
       "      <td>2</td>\n",
       "      <td>3</td>\n",
       "      <td>1</td>\n",
       "      <td>0</td>\n",
       "      <td>0</td>\n",
       "      <td>29805</td>\n",
       "      <td>1</td>\n",
       "    </tr>\n",
       "    <tr>\n",
       "      <th>4</th>\n",
       "      <td>HR6734</td>\n",
       "      <td>33</td>\n",
       "      <td>HR</td>\n",
       "      <td>City</td>\n",
       "      <td>UG</td>\n",
       "      <td>Recruitment Agency</td>\n",
       "      <td>2</td>\n",
       "      <td>1</td>\n",
       "      <td>0</td>\n",
       "      <td>5</td>\n",
       "      <td>0</td>\n",
       "      <td>29805</td>\n",
       "      <td>1</td>\n",
       "    </tr>\n",
       "  </tbody>\n",
       "</table>\n",
       "</div>"
      ],
      "text/plain": [
       "     emp_id  age        Dept location education    recruitment_type  \\\n",
       "0    HR8270   28          HR   Suburb        PG            Referral   \n",
       "1  TECH1860   50  Technology   Suburb        PG             Walk-in   \n",
       "2  TECH6390   43  Technology   Suburb        UG            Referral   \n",
       "3   SAL6191   44       Sales     City        PG           On-Campus   \n",
       "4    HR6734   33          HR     City        UG  Recruitment Agency   \n",
       "\n",
       "   job_level  rating  onsite  awards  certifications  salary  satisfied  \n",
       "0          5       2       0       1               0   86750          1  \n",
       "1          3       5       1       2               1   42419          0  \n",
       "2          4       1       0       2               0   65715          0  \n",
       "3          2       3       1       0               0   29805          1  \n",
       "4          2       1       0       5               0   29805          1  "
      ]
     },
     "execution_count": 183,
     "metadata": {},
     "output_type": "execute_result"
    }
   ],
   "source": [
    "#Now Let's Analyse the loaction column\n",
    "df.head()"
   ]
  },
  {
   "cell_type": "code",
   "execution_count": 185,
   "id": "8870e65b-3203-40f4-bcbe-a1cd55b26964",
   "metadata": {},
   "outputs": [
    {
     "data": {
      "text/plain": [
       "array(['Suburb', 'City'], dtype=object)"
      ]
     },
     "execution_count": 185,
     "metadata": {},
     "output_type": "execute_result"
    }
   ],
   "source": [
    "#let's see how many no.of unique values are in the dataset\n",
    "df['location'].unique()"
   ]
  },
  {
   "cell_type": "code",
   "execution_count": 187,
   "id": "563552f9-2e42-4145-9903-eb04b3380aa8",
   "metadata": {},
   "outputs": [
    {
     "data": {
      "text/plain": [
       "2"
      ]
     },
     "execution_count": 187,
     "metadata": {},
     "output_type": "execute_result"
    }
   ],
   "source": [
    "df['location'].nunique()"
   ]
  },
  {
   "cell_type": "code",
   "execution_count": 189,
   "id": "ee53b820-9b7f-4880-b13c-baa41a824d50",
   "metadata": {},
   "outputs": [
    {
     "data": {
      "text/plain": [
       "City      259\n",
       "Suburb    241\n",
       "Name: location, dtype: int64"
      ]
     },
     "execution_count": 189,
     "metadata": {},
     "output_type": "execute_result"
    }
   ],
   "source": [
    "df['location'].value_counts()"
   ]
  },
  {
   "cell_type": "code",
   "execution_count": 195,
   "id": "562c72e2-3d82-47ad-ad1a-f3cc5c248bfe",
   "metadata": {},
   "outputs": [
    {
     "name": "stdout",
     "output_type": "stream",
     "text": [
      "satisfied    0    1  All  Satisfaction Percentage\n",
      "location                                         \n",
      "City       119  140  259                54.054054\n",
      "Suburb     118  123  241                51.037344\n",
      "All        237  263  500                52.600000\n"
     ]
    }
   ],
   "source": [
    "#Now we will calculate the percentage oif the loaction and satisfaction\n",
    "# Using crosstab to compute a simple cross-tabulation\n",
    "d = pd.crosstab (df['location'], df['satisfied'], margins=True)\n",
    "d['Satisfaction Percentage'] = d[1]/d['All'] * 100\n",
    "print(d)"
   ]
  },
  {
   "cell_type": "code",
   "execution_count": 203,
   "id": "2b2777bb-d744-4951-93fc-e7c1e49aa255",
   "metadata": {},
   "outputs": [
    {
     "data": {
      "image/png": "[encoded data removed]",
      "text/plain": [
       "<Figure size 1400x500 with 1 Axes>"
      ]
     },
     "metadata": {},
     "output_type": "display_data"
    }
   ],
   "source": [
    "#Drawing a Bar Graph to show Location wise Satisfaction\n",
    "import matplotlib.pyplot as plt\n",
    "import seaborn as sns\n",
    "plt.figure(figsize=(14, 5))\n",
    "sns.countplot(x='location', hue='satisfied', data=df)\n",
    "plt.title('Location-wise Satisfaction')\n",
    "plt.xlabel('Location')\n",
    "plt.ylabel('Count')\n",
    "plt.show()"
   ]
  },
  {
   "cell_type": "code",
   "execution_count": null,
   "id": "00ec6891-a0c9-4099-8cc1-85c12d00d3cb",
   "metadata": {},
   "outputs": [],
   "source": []
  }
 ],
 "metadata": {
  "kernelspec": {
   "display_name": "Python [conda env:base] *",
   "language": "python",
   "name": "conda-base-py"
  },
  "language_info": {
   "codemirror_mode": {
    "name": "ipython",
    "version": 3
   },
   "file_extension": ".py",
   "mimetype": "text/x-python",
   "name": "python",
   "nbconvert_exporter": "python",
   "pygments_lexer": "ipython3",
   "version": "3.10.9"
  }
 },
 "nbformat": 4,
 "nbformat_minor": 5
}
